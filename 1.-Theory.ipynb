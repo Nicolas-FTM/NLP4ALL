{
 "cells": [
  {
   "cell_type": "markdown",
   "metadata": {},
   "source": [
    "# Natural Language Processing for All (NLP4ALL)\n",
    "\n",
    "## 1.- NLP Theory\n",
    "\n",
    "This notebook is focused on learning key topics about NLP:\n",
    "\n",
    "* [Brief introduction from AI to NLP](#brief-introduction-from-ai-to-nlp)\n",
    "* [What is NLP? What are NLU and NLG?](#what-is-nlp-what-are-nlu-and-nlg)\n",
    "* [Which is the difference between ASR and NLP?](#which-is-the-difference-between-asr-and-nlp)\n",
    "* [Differences between NLP, LLM, and Generative AI](#differences-between-nlp-llm-and-generative-ai)\n",
    "* Core NLP tasks and applications\n",
    "  - Tokenization, stemming, and lemmatization\n",
    "  - Part-of-speech tagging\n",
    "  - Named Entity Recognition (NER)\n",
    "  - Sentiment analysis\n",
    "  - Machine translation\n",
    "* NLP techniques and models\n",
    "  - Rule-based vs. statistical approaches\n",
    "  - Word embeddings (e.g., Word2Vec, GloVe)\n",
    "  - Recurrent Neural Networks (RNNs) and Long Short-Term Memory (LSTM)\n",
    "  - Transformer models and attention mechanisms\n",
    "* Challenges in NLP\n",
    "  - Ambiguity and context understanding\n",
    "  - Multilingual and cross-lingual NLP\n",
    "  - Handling idiomatic expressions and sarcasm\n",
    "* Evaluation metrics for NLP tasks\n",
    "* Ethical considerations in NLP\n",
    "* Future trends and research directions in NLP\n",
    "\n",
    "\n",
    "Developed by:\n",
    "- Nicolás Felipe Trujillo Montero"
   ]
  },
  {
   "cell_type": "markdown",
   "metadata": {},
   "source": [
    "### Brief introduction from AI to NLP\n",
    "[Back to Index](#natural-language-processing-for-all-nlp4all)"
   ]
  },
  {
   "cell_type": "markdown",
   "metadata": {},
   "source": [
    "### What is NLP? What are NLU and NLG?\n",
    "[Back to Index](#natural-language-processing-for-all-nlp4all)"
   ]
  },
  {
   "cell_type": "markdown",
   "metadata": {},
   "source": [
    "### Which is the difference between ASR and NLP?\n",
    "[Back to Index](#natural-language-processing-for-all-nlp4all)"
   ]
  },
  {
   "cell_type": "markdown",
   "metadata": {},
   "source": [
    "### Differences between NLP, LLM, and Generative AI\n",
    "[Back to Index](#natural-language-processing-for-all-nlp4all)"
   ]
  }
 ],
 "metadata": {
  "language_info": {
   "name": "python"
  }
 },
 "nbformat": 4,
 "nbformat_minor": 2
}
