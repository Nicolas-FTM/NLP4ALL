{
 "cells": [
  {
   "cell_type": "markdown",
   "metadata": {},
   "source": [
    "# Natural Language Processing for Rookies (NLP4ROOKIES)\n",
    "\n",
    "## 1.- NLP Theory\n",
    "\n",
    "This notebook is focused on learning key topics about NLP:\n",
    "\n",
    "* [Brief introduction from AI to NLP](#brief-introduction-from-ai-to-nlp)\n",
    "* [What is NLP? Components and Projects](#what-is-nlp-components-and-projects)\n",
    "* [What are NLU and NLG?](#what-is-nlu-and-nlg)\n",
    "* [Which is the difference between ASR and NLP?](#which-is-the-difference-between-asr-and-nlp)\n",
    "* [Differences between NLP, LLM, and Generative AI](#differences-between-nlp-llm-and-generative-ai)\n",
    "* [Core NLP tasks and applications](#core-nlp-tasks-and-applications)\n",
    "  - Tokenization, stemming, and lemmatization\n",
    "  - Part-of-speech tagging\n",
    "  - Named Entity Recognition (NER)\n",
    "  - Sentiment analysis\n",
    "  - Machine translation\n",
    "* [NLP techniques and models](#nlp-techniques-and-models)\n",
    "  - Rule-based vs. statistical approaches\n",
    "  - Word embeddings (e.g., Word2Vec, GloVe)\n",
    "  - Recurrent Neural Networks (RNNs) and Long Short-Term Memory (LSTM)\n",
    "  - Transformer models and attention mechanisms\n",
    "* [Challenges in NLP](#challenges-in-nlp)\n",
    "  - Ambiguity and context understanding\n",
    "  - Multilingual and cross-lingual NLP\n",
    "  - Handling idiomatic expressions and sarcasm\n",
    "* [Evaluation metrics for NLP tasks](#evaluation-metrics-for-nlp-tasks)\n",
    "* [Ethical considerations in NLP](#ethical-considerations-in-nlp)\n",
    "* [Future trends and research directions in NLP](#future-trends-and-research-directions-in-nlp)\n",
    "\n",
    "Developed by:\n",
    "- Nicolás Felipe Trujillo Montero"
   ]
  },
  {
   "cell_type": "markdown",
   "metadata": {},
   "source": [
    "### Brief introduction from AI to NLP\n",
    "[Back to Index](#natural-language-processing-for-rookies-nlp4rookies)\n",
    "\n",
    "The idea of Natural Language Processing is to study the (inter)actions between computers and human language using natural language. Furthermore, NLP not only study the comprehension of the language, but also cognitive human aspects. \n",
    "\n",
    "![AI Diagram](https://cdn.prod.website-files.com/6473d8d02a3cf26273f2787d/64b0f739e5b8f9ef35393bbf_yrLSOSTijWQiKto9McsHxKYqIvTwsuzzQKnhl34ZwZv2TBwaoerFBJteHlAQn_bzSMvtXcmG0L_IsDu0nvWALn2FO4mUuuB8hCmffenxRLyI3DE6rhodNaRoUBZ5zWSSs2pG9BaYCePkotW1VZaGBQ.png)\n",
    "\n",
    "The idea was born from the Turing Test where Alan Turing propose a method to know if a computer could be indistinguishable from a human. Over the years, the way of performing NLP techniques has changed:\n",
    "\n",
    "<ol>\n",
    "    <li>Machine Translation - MT (1950 - 1970): substitution of words from one language to another one</li>\n",
    "    <li>Rules-Based Decision Trees - ML (1970 - 2010): these models are based in rules like if-else </li>\n",
    "    <li>Artificial Neural Networks - DL (2010 - 2020): these models started to use ANN to learn about the context and more meta-data using techniques as RNN (Recurrent Neural Network) and LSTM (Long Short- Term Memory)</li>\n",
    "    <li>Large Language Models - LLM (2020 - ): these models are also based in NLP, but they are more general than a model of machine translation. </li>\n",
    "</ol>\n",
    "\n",
    "![NLP Diagram](https://javatpoint-images.s3.eu-north-1.amazonaws.com/tutorial/nlp/images/what-is-nlp.png)"
   ]
  },
  {
   "cell_type": "markdown",
   "metadata": {},
   "source": [
    "### What is NLP? Components and Projects\n",
    "[Back to Index](#natural-language-processing-for-rookies-nlp4rookies)\n",
    "\n",
    "Before talking about NLP possible projects, it is mandatory to explain the five main components in the NLP and take a quick look at what each of these is:\n",
    "<ul>\n",
    "    <li>Lexical & Morphological Analysis: morphological analysis focus on the word formations and components (prefixes, roots, ...) and lexical analysis focus on the meaning of words/phrases in a text</li>\n",
    "    <li>Syntactic Analysis: focus on the structure of the words conforming to formal grammar rules (Grammatical structure of the language)</li>\n",
    "    <li>Semantic Analysis: focus on giving meaning to the words</li>\n",
    "    <li>Discourse Integration: focus on giving meaning to a text</li>\n",
    "    <li>Pragmatic Analysis: focus on the purpose of a communication (Analyze the context)</li>\n",
    "</ul>\n",
    "\n",
    "![Components of NLP](https://media.licdn.com/dms/image/D4D12AQFghWTm5ppwMw/article-cover_image-shrink_600_2000/0/1665390765580?e=2147483647&v=beta&t=xywv5IAIa1EwLYsOTPPTeqsUuBKIc_4QFT_AREakdAs)\n",
    "\n",
    "Natural Language Processing is focus on AI text projects as:\n",
    "<ul>\n",
    "    <li>Speech synthesis</li>\n",
    "    <li>Language analysis</li>\n",
    "    <li>Language comprehension</li>\n",
    "    <li>Speech recognition</li>\n",
    "    <li>Speech synthesis</li>\n",
    "    <li>Natural language generation</li>\n",
    "    <li>Automatic translation</li>\n",
    "    <li>Question answering</li>\n",
    "    <li>Information retrieval</li>\n",
    "    <li>Information extraction</li>\n",
    "</ul>"
   ]
  },
  {
   "cell_type": "markdown",
   "metadata": {},
   "source": [
    "### What is NLU and NLG?\n",
    "[Back to Index](#natural-language-processing-for-rookies-nlp4rookies)\n",
    "\n",
    "![NLU and NLG](https://www.shaip.com/wp-content/uploads/2023/05/Blog_NLP-NLU-and-NLG-The-World-of-Difference.jpg)\n",
    "\n",
    "Natural Language Understanding and Natural Language Generation are two subfields of the NLP field. \n",
    "\n",
    "1.- Natural Language Understanding is focused on interpreting the meaning of the natural language for better understanding of their context using Syntactic and Semantic Analysis. Usual tasks of the NLU field are:\n",
    "- Semantic Analysis\n",
    "- Intent Recognition\n",
    "- Named-Entity Recognition\n",
    "- Sentiment Analysis\n",
    "\n",
    "2.- Natural Language Generation is focused on generating natural language from structured data. Usual tasks of the NLG field are:\n",
    "- Chatbots to support clients\n",
    "- Summary generation"
   ]
  },
  {
   "cell_type": "markdown",
   "metadata": {},
   "source": [
    "### Which is the difference between ASR and NLP?\n",
    "[Back to Index](#natural-language-processing-for-rookies-nlp4rookies)\n",
    "\n",
    "Inside the NLP field, there are 4 types of neuro linguistic programming known as:\n",
    "<ul>\n",
    "    <li>Text to Text (TTT) - Machine Translation</li>\n",
    "    <li>Text to Speech (TTS) - Google Translate</li>\n",
    "    <li>Speech to Text (STT) - Siri</li>\n",
    "    <li>Speech to Speech (STS) - Alexa</li>\n",
    "</ul>\n",
    "\n",
    "However, Automatic Speech Recognition (ASR) is a technique that supports machines with recognizing and understanding human language. It seems quite similar to STT but ASR converts spoken language into written text and after this action, the program uses ML, word segmentation and other algorithms to interpret the natural language. Nowadays, both techniques works together.\n"
   ]
  },
  {
   "cell_type": "markdown",
   "metadata": {},
   "source": [
    "### Differences between NLP, LLM, and Generative AI\n",
    "[Back to Index](#natural-language-processing-for-rookies-nlp4rookies)\n",
    "\n",
    "Generative AI is a DL model that can generate text, audio, images or code while NLP models, by contrast, are often not designed to generate text at all. On the other hand, Large Language Model (LLM) are also a type of generative AI in that they can produce text in response to queries."
   ]
  },
  {
   "cell_type": "markdown",
   "metadata": {},
   "source": [
    "### Core NLP tasks and applications\n",
    "[Back to Index](#natural-language-processing-for-rookies-nlp4rookies)\n",
    "\n",
    "NLP is focused in the processing and understanding the natural language so there are usual tasks and apps that are made in this field, for example:\n",
    "\n",
    "A.- \n",
    "\n",
    "* [Core NLP tasks and applications](#core-nlp-tasks-and-applications)\n",
    "  - Tokenization, stemming, and lemmatization\n",
    "  - Part-of-speech tagging\n",
    "  - Named Entity Recognition (NER)\n",
    "  - Sentiment analysis\n",
    "  - Machine translation"
   ]
  },
  {
   "cell_type": "markdown",
   "metadata": {},
   "source": [
    "### NLP techniques and models\n",
    "[Back to Index](#natural-language-processing-for-rookies-nlp4rookies)"
   ]
  },
  {
   "cell_type": "markdown",
   "metadata": {},
   "source": [
    "### Challenges in NLP\n",
    "[Back to Index](#natural-language-processing-for-rookies-nlp4rookies)"
   ]
  },
  {
   "cell_type": "markdown",
   "metadata": {},
   "source": [
    "### Evaluation metrics for NLP tasks\n",
    "[Back to Index](#natural-language-processing-for-rookies-nlp4rookies)"
   ]
  },
  {
   "cell_type": "markdown",
   "metadata": {},
   "source": [
    "### Ethical considerations in NLP\n",
    "[Back to Index](#natural-language-processing-for-rookies-nlp4rookies)"
   ]
  },
  {
   "cell_type": "markdown",
   "metadata": {},
   "source": [
    "### Future trends and research directions in NLP\n",
    "[Back to Index](#natural-language-processing-for-rookies-nlp4rookies)"
   ]
  },
  {
   "cell_type": "markdown",
   "metadata": {},
   "source": [
    "## Bibliography\n",
    "- https://callcriteria.com/what-is-nlp-natural-language-processing/\n",
    "- https://es.shaip.com/blog/difference-between-nlp-nlu-and-nlg/\n",
    "- https://sonix.ai/resources/es/que-asr/\n",
    "- https://www.cloudflare.com/learning/ai/natural-language-processing-nlp/\n",
    "- https://es.wikipedia.org/wiki/Procesamiento_de_lenguajes_naturales\n",
    "- https://ivs24.com/en/blog/post/nlu-vs-nlp-vs-asr-what-are-they-and-how-do-they-differ/"
   ]
  }
 ],
 "metadata": {
  "language_info": {
   "name": "python"
  }
 },
 "nbformat": 4,
 "nbformat_minor": 2
}
