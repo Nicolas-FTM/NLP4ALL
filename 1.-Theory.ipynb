{
 "cells": [
  {
   "cell_type": "markdown",
   "metadata": {},
   "source": [
    "# Natural Language Processing for Rookies (NLP4ROOKIES)\n",
    "\n",
    "## 1.- NLP Theory\n",
    "\n",
    "This notebook is focused on learning key topics about NLP:\n",
    "\n",
    "* [Brief introduction from AI to NLP](#brief-introduction-from-ai-to-nlp)\n",
    "* [What is NLP? What are NLU and NLG?](#what-is-nlp-what-are-nlu-and-nlg)\n",
    "* [Which is the difference between ASR and NLP?](#which-is-the-difference-between-asr-and-nlp)\n",
    "* [Differences between NLP, LLM, and Generative AI](#differences-between-nlp-llm-and-generative-ai)\n",
    "* [Core NLP tasks and applications](#core-nlp-tasks-and-applications)\n",
    "  - Tokenization, stemming, and lemmatization\n",
    "  - Part-of-speech tagging\n",
    "  - Named Entity Recognition (NER)\n",
    "  - Sentiment analysis\n",
    "  - Machine translation\n",
    "* [NLP techniques and models](#nlp-techniques-and-models)\n",
    "  - Rule-based vs. statistical approaches\n",
    "  - Word embeddings (e.g., Word2Vec, GloVe)\n",
    "  - Recurrent Neural Networks (RNNs) and Long Short-Term Memory (LSTM)\n",
    "  - Transformer models and attention mechanisms\n",
    "* [Challenges in NLP](#challenges-in-nlp)\n",
    "  - Ambiguity and context understanding\n",
    "  - Multilingual and cross-lingual NLP\n",
    "  - Handling idiomatic expressions and sarcasm\n",
    "* [Evaluation metrics for NLP tasks](#evaluation-metrics-for-nlp-tasks)\n",
    "* [Ethical considerations in NLP](#ethical-considerations-in-nlp)\n",
    "* [Future trends and research directions in NLP](#future-trends-and-research-directions-in-nlp)\n",
    "\n",
    "Developed by:\n",
    "- Nicolás Felipe Trujillo Montero"
   ]
  },
  {
   "cell_type": "markdown",
   "metadata": {},
   "source": [
    "### Brief introduction from AI to NLP\n",
    "[Back to Index](#natural-language-processing-for-rookies-nlp4rookies)\n",
    "\n",
    "The idea of Natural Language Processing is to study the (inter)actions between computers and human language using natural language. Furthermore, NLP not only study the comprehension of the language, but also cognitive human aspects. \n",
    "\n",
    "![AI Diagram](https://cdn.prod.website-files.com/6473d8d02a3cf26273f2787d/64b0f739e5b8f9ef35393bbf_yrLSOSTijWQiKto9McsHxKYqIvTwsuzzQKnhl34ZwZv2TBwaoerFBJteHlAQn_bzSMvtXcmG0L_IsDu0nvWALn2FO4mUuuB8hCmffenxRLyI3DE6rhodNaRoUBZ5zWSSs2pG9BaYCePkotW1VZaGBQ.png)\n",
    "\n",
    "The idea was born from the Turing Test where Alan Turing propose a method to know if a computer could be indistinguishable from a human. Over the years, the way of performing NLP techniques has changed:\n",
    "\n",
    "<ol>\n",
    "    <li>Machine Translation - MT (1950 - 1970): substitution of words from one language to another one</li>\n",
    "    <li>Rules-Based Decision Trees - ML (1970 - 2010): these models are based in rules like if-else </li>\n",
    "    <li>Artificial Neural Networks - DL (2010 - 2020): these models started to use ANN to learn about the context and more meta-data using techniques as RNN (Recurrent Neural Network) and LSTM (Long Short- Term Memory)</li>\n",
    "    <li>Large Language Models - LLM (2020 - ): these models are also based in NLP, but they are more general than a model of machine translation. </li>\n",
    "</ol>\n",
    "\n",
    "![NLP Diagram](https://javatpoint-images.s3.eu-north-1.amazonaws.com/tutorial/nlp/images/what-is-nlp.png)"
   ]
  },
  {
   "cell_type": "markdown",
   "metadata": {},
   "source": [
    "### What is NLP? What are NLU and NLG?\n",
    "[Back to Index](#natural-language-processing-for-rookies-nlp4rookies)\n",
    "\n",
    "Before talking about NLP possible projects, it is mandatory to explain the five main components in the NLP and take a quick look at what each of these is:\n",
    "<ul>\n",
    "    <li>Lexical & Morphological Analysis: morphological analysis focus on the word formations and components (prefixes, roots, ...) and lexical analysis focus on the meaning of words/phrases in a text</li>\n",
    "    <li>Syntactic Analysis:</li>\n",
    "    <li>Semantic Analysis:</li>\n",
    "    <li>Discourse Integration:</li>\n",
    "    <li>Pragmatic Analysis:</li>\n",
    "</ul>\n",
    "\n",
    "\n",
    "\n",
    "Natural Language Processing is focus on AI text projects as:\n"
   ]
  },
  {
   "cell_type": "markdown",
   "metadata": {},
   "source": [
    "### Which is the difference between ASR and NLP?\n",
    "[Back to Index](#natural-language-processing-for-rookies-nlp4rookies)"
   ]
  },
  {
   "cell_type": "markdown",
   "metadata": {},
   "source": [
    "### Differences between NLP, LLM, and Generative AI\n",
    "[Back to Index](#natural-language-processing-for-rookies-nlp4rookies)"
   ]
  },
  {
   "cell_type": "markdown",
   "metadata": {},
   "source": [
    "### Core NLP tasks and applications\n",
    "[Back to Index](#natural-language-processing-for-rookies-nlp4rookies)"
   ]
  },
  {
   "cell_type": "markdown",
   "metadata": {},
   "source": [
    "### NLP techniques and models\n",
    "[Back to Index](#natural-language-processing-for-rookies-nlp4rookies)"
   ]
  },
  {
   "cell_type": "markdown",
   "metadata": {},
   "source": [
    "### Challenges in NLP\n",
    "[Back to Index](#natural-language-processing-for-rookies-nlp4rookies)"
   ]
  },
  {
   "cell_type": "markdown",
   "metadata": {},
   "source": [
    "### Evaluation metrics for NLP tasks\n",
    "[Back to Index](#natural-language-processing-for-rookies-nlp4rookies)"
   ]
  },
  {
   "cell_type": "markdown",
   "metadata": {},
   "source": [
    "### Ethical considerations in NLP\n",
    "[Back to Index](#natural-language-processing-for-rookies-nlp4rookies)"
   ]
  },
  {
   "cell_type": "markdown",
   "metadata": {},
   "source": [
    "### Future trends and research directions in NLP\n",
    "[Back to Index](#natural-language-processing-for-rookies-nlp4rookies)"
   ]
  }
 ],
 "metadata": {
  "language_info": {
   "name": "python"
  }
 },
 "nbformat": 4,
 "nbformat_minor": 2
}
